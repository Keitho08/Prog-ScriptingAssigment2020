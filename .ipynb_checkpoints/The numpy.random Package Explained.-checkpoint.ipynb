{
 "cells": [
  {
   "cell_type": "markdown",
   "metadata": {},
   "source": [
    "# Programming and Scripting Project 2020 \n",
    " \n",
    "## The numpy.random Package\n",
    "\n",
    "### Keith Brazill - G00387845\n",
    "\n",
    "![NumPy Logo](https://encrypted-tbn0.gstatic.com/images?q=tbn%3AANd9GcRtdVSSbl4AVxl44Jjcx0OrNR8eB8Oz5Nj2dw&usqp=CAU)\n",
    "Numpy Logo (source: Developed by Keith Brazill) ***Add a relevant image here***\n",
    "\n",
    "This assignement is submitted as part of the requirements for partial fullfilment of a postgraduate diploma in Computer Science with Data Analytics at Galway Mayo Institute of Technology. "
   ]
  },
  {
   "cell_type": "markdown",
   "metadata": {},
   "source": [
    "***\n",
    "# 1.  Introduction\n",
    "\n",
    "This notebook will explain the history and use of the numpy.random package and explain in detail a number of distributions included in the package utilising plain engilish terminology and plots and statistical analysis to provide real world examples. The use of of \"Simple Random Data\" and \"Permutations\" functions and use of seeds in pseudorandom numbers will also be explained in detail. \n",
    "\n",
    "This notebook is structured as follows:\n",
    "1. Introduction\n",
    "2. Purpose of the numpy.random package\n",
    "3. Use and Purpose of Distributions\n",
    "4. Use of seed in generating pseudorandom numbers. \n",
    "5. Conclusion and Learners Reflection\n",
    "6. References\n",
    "***"
   ]
  },
  {
   "cell_type": "markdown",
   "metadata": {},
   "source": [
    "# 2. Purpose of the numpy.random package\n",
    "***"
   ]
  },
  {
   "cell_type": "markdown",
   "metadata": {},
   "source": [
    "A random number is not neccessarily a different number every time, but rather a number that cannot be predicted logically. As computers operate on programs which are a definitive set of instructions, it therefore implies there must be some algorthim to generate a random number as well, thus these numpers are not truly random, even though to most humans they will appear to be so. Generally under normal circumstances humans do not require truly random numbers except for specific applications such as encryption keys for security, gambling games such as digital roulette wheel's etc. to prevent hackers cheating. \n",
    "\n",
    "![DigitalRoulette](https://previews.123rf.com/images/3calado3/3calado31911/3calado3191100014/133485420-roulette-wheel-padlock-and-internet-cable-lying-on-computer-keyboard-symbolizing-data-encryption.jpg)  \n",
    "*Digital Roulette - Truly Random Number Required to prevent hacking. (source: https://previews.123rf.com/images/3calado3/3calado31911/3calado3191100014/133485420-roulette-wheel-padlock-and-internet-cable-lying-on-computer-keyboard-symbolizing-data-encryption.jpg)*\n",
    "\n",
    "Random numbers in a computer are generally generated via an algorithim called pseudo random. Pseudo random as defined by Google dictionary, are numbers that satisfy one or more statistical tests for randomness but are produced by a definitive mathematical procedure. In order to generate truly random numbers hardware our information from an outside source to the computer is generally required. Pseudo Random Number Generators are usually referred to by the acronymn **PRNG**, whilst True Random Number Generators are referred to as **TRNG**. \n",
    "\n",
    "NumPy is a freely available open source software. The lead co-founder of NumPy was Travis Oliphant. It was officially relased in version 1.0 in October 2006 which had evolved from an orginal module called numeric written in 1995. The sotware is free to download at http://numpy.scipy.org. NumPy is one of the most fundamental and widely used Python packages that is widely used for machine learning research and other scientific and mathematical computing tasks. In addition to the mathematical and scientifc taskts, NumPy is also used to generate random numbers that serve various different requirements in computer science. \n",
    "\n",
    "Random number generation is a significant element of modern scientifc computing tasks. Numpy comes complete with a standard library of random number generators for both continuous[<sup>1</sup>](#fn1) and discrete[<sup>2</sup>](#fn2) type data. \n",
    "Real world examples of where there numpy random generation package may be used include simulation and modelling of data sets, such as the Iris flower data set where random numbers between certain intervals could be used to predict a species type. Another example is sports analytics where random numbers could be inputted to determine predicted output as per the case study available at numpy.org[<sup>3</sup>](#fn3). We will look at examples of the NumPy random generation module further in the following sections of this report.\n",
    "\n",
    "\n",
    "***\n",
    "**<span id=\"fn1\"> 1</span>** Discrete data can only have certain values, both whole numbers and floating point. For example shoe sizes are fixed and come in certain ranges usually in increments of 0.5.  \n",
    "**<span id=\"fn2\"> 2</span>** Continuous data can take any value, examples being height, weight, temperature and length.  \n",
    "**<span id=\"fn3\"> 3</span>** NumPy in Sports Analysis https://numpy.org/case-studies/cricket-analytics/"
   ]
  },
  {
   "cell_type": "markdown",
   "metadata": {},
   "source": [
    "***\n",
    "# 3. Use and Purpose of Distributions\n",
    "***"
   ]
  },
  {
   "cell_type": "code",
   "execution_count": null,
   "metadata": {},
   "outputs": [],
   "source": []
  },
  {
   "cell_type": "code",
   "execution_count": null,
   "metadata": {},
   "outputs": [],
   "source": []
  },
  {
   "cell_type": "code",
   "execution_count": null,
   "metadata": {},
   "outputs": [],
   "source": []
  },
  {
   "cell_type": "code",
   "execution_count": null,
   "metadata": {},
   "outputs": [],
   "source": []
  },
  {
   "cell_type": "code",
   "execution_count": null,
   "metadata": {},
   "outputs": [],
   "source": []
  },
  {
   "cell_type": "markdown",
   "metadata": {},
   "source": [
    "# 6. References\n",
    "\n",
    "1. https://web.archive.org/web/20131014035918/http://www.vision.ime.usp.br/~thsant/pool/oliphant-python_scientific.pdf\n",
    "2. https://web.mit.edu/dvp/Public/numpybook.pdf\n",
    "3. https://en.wikipedia.org/wiki/NumPy\n",
    "4. https://www.nature.com/articles/s41586-020-2649-2.pdf\n",
    "5. https://www.cs.mcgill.ca/~hv/articles/Numerical/numpy.pdf\n",
    "6. https://en.wikipedia.org/wiki/Travis_Oliphant\n",
    "7. https://github.com/numpy/numpy\n",
    "8. https://numpy.org/\n",
    "9. https://www.open.edu/openlearn/ocw/mod/oucontent/view.php?id=85587&section=1#:~:text=Discrete%20data%20is%20information%20that%20can%20only%20take%20certain%20values.&text=Continuous%20data%20is%20data%20that,all%20examples%20of%20continuous%20data.\n",
    "10. https://towardsdatascience.com/a-cheat-sheet-on-generating-random-numbers-in-numpy-5fe95ec2286\n"
   ]
  },
  {
   "cell_type": "code",
   "execution_count": null,
   "metadata": {},
   "outputs": [],
   "source": []
  }
 ],
 "metadata": {
  "kernelspec": {
   "display_name": "Python 3",
   "language": "python",
   "name": "python3"
  },
  "language_info": {
   "codemirror_mode": {
    "name": "ipython",
    "version": 3
   },
   "file_extension": ".py",
   "mimetype": "text/x-python",
   "name": "python",
   "nbconvert_exporter": "python",
   "pygments_lexer": "ipython3",
   "version": "3.8.5"
  }
 },
 "nbformat": 4,
 "nbformat_minor": 4
}
