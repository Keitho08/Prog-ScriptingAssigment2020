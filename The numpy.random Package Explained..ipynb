{
 "cells": [
  {
   "cell_type": "markdown",
   "metadata": {},
   "source": [
    "# Programming and Scripting Project 2020 \n",
    " \n",
    "## The numpy.random Package\n",
    "\n",
    "### Keith Brazill - G00387845\n",
    "\n",
    "![NumPy Logo](https://encrypted-tbn0.gstatic.com/images?q=tbn%3AANd9GcRtdVSSbl4AVxl44Jjcx0OrNR8eB8Oz5Nj2dw&usqp=CAU)\n",
    "Numpy Logo (source: Developed by Keith Brazill) ***Add a relevant image here***\n",
    "\n",
    "This assignement is submitted as part of the requirements for partial fullfilment of a postgraduate diploma in Computer Science with Data Analytics at Galway Mayo Institute of Technology. "
   ]
  },
  {
   "cell_type": "markdown",
   "metadata": {},
   "source": [
    "***\n",
    "# 1.  Introduction\n",
    "\n",
    "This notebook will explain the history and use of the numpy.random package and explain in detail a number of distributions included in the package utilising plain engilish terminology and plots and statistical analysis to provide real world examples. The use of of \"Simple Random Data\" and \"Permutations\" functions and use of seeds in pseudorandom numbers will also be explained in detail. \n",
    "\n",
    "This notebook is structured as follows:\n",
    "1. Introduction\n",
    "2. Purpose of the numpy.random package\n",
    "3. Simple Random Data and Pemutation Functions\n",
    "3. Use and Purpose of Distributions\n",
    "4. Use of seed in generating pseudorandom numbers. \n",
    "5. Conclusion and Learners Reflection\n",
    "6. References\n",
    "***"
   ]
  },
  {
   "cell_type": "markdown",
   "metadata": {},
   "source": [
    "# 2. Purpose of the numpy.random package\n",
    "***"
   ]
  },
  {
   "cell_type": "markdown",
   "metadata": {},
   "source": [
    "**Background to Random Numbers**  \n",
    "A random number is not neccessarily a different number every time, but rather a number that cannot be predicted logically. As computers operate on programs which are a definitive set of instructions, it therefore implies there must be some algorthim to generate a random number as well, thus these numpers are not truly random, even though to most humans they will appear to be so. Generally under normal circumstances humans do not require truly random numbers except for specific applications such as encryption keys for security, gambling games such as digital roulette wheel's etc. to prevent hackers cheating. \n",
    "\n",
    "![DigitalRoulette](https://previews.123rf.com/images/3calado3/3calado31911/3calado3191100014/133485420-roulette-wheel-padlock-and-internet-cable-lying-on-computer-keyboard-symbolizing-data-encryption.jpg)  \n",
    "*Digital Roulette - Truly Random Number Required to prevent hacking. (source: https://previews.123rf.com/images/3calado3/3calado31911/3calado3191100014/133485420-roulette-wheel-padlock-and-internet-cable-lying-on-computer-keyboard-symbolizing-data-encryption.jpg)*\n",
    "\n",
    "Random numbers in a computer are generally generated via an algorithim called pseudo random. Pseudo random as defined by Google dictionary, are numbers that satisfy one or more statistical tests for randomness but are produced by a definitive mathematical procedure. In order to generate truly random numbers hardware our information from an outside source to the computer is generally required. Pseudo Random Number Generators are usually referred to by the acronymn **PRNG**, whilst True Random Number Generators are referred to as **TRNG**. A great example how the internet security company Cluodfare utilise lava lamps to create TRN's is available at; https://www.wired.com/story/cloudflare-lava-lamps-protect-from-hackers/. Using a camera to photograph movement of lava lamp movements true random numbers can be created. This notebook will focus on PRNG in NumPy, however it is important before we go further to understand the limitations of PRNGs. \n",
    "\n",
    "\n",
    "**NumPy Random Number Generation**  \n",
    "NumPy is a freely available open source software. The lead co-founder of NumPy was Travis Oliphant. It was officially relased in version 1.0 in October 2006 which had evolved from an orginal module called numeric written in 1995. The sotware is free to download at http://numpy.scipy.org. NumPy is one of the most fundamental and widely used Python packages that is widely used for machine learning research and other scientific and mathematical computing tasks. In addition to the mathematical and scientifc taskts, NumPy is also used to generate random numbers that serve various different requirements in computer science. \n",
    "\n",
    "Random number generation is a significant element of modern scientifc computing tasks. Numpy comes complete with a standard library of random number generators for both continuous[<sup>1</sup>](#fn1) and discrete[<sup>2</sup>](#fn2) type data. \n",
    "Real world examples of where there numpy random generation package may be used include simulation and modelling of data sets, such as the Iris flower data set where random numbers between certain intervals could be used to predict a species type. Another example is sports analytics where random numbers could be inputted to determine predicted output as per the case study available at numpy.org[<sup>3</sup>](#fn3). In computers games development random numbers could be used for many applications fo example to simulate dodging a random bullet or drawing a card from a deck. We will look at examples of the NumPy random generation module further in the following sections of this report.\n",
    "\n",
    "\n",
    "***\n",
    "**<span id=\"fn1\"> 1</span>** Discrete data can only have certain values, both whole numbers and floating point. For example shoe sizes are fixed and come in certain ranges usually in increments of 0.5.  \n",
    "**<span id=\"fn2\"> 2</span>** Continuous data can take any value, examples being height, weight, temperature and length.  \n",
    "**<span id=\"fn3\"> 3</span>** NumPy in Sports Analysis https://numpy.org/case-studies/cricket-analytics/"
   ]
  },
  {
   "cell_type": "markdown",
   "metadata": {},
   "source": [
    "***\n",
    "# 3. Simple Random Data and Permutations\n",
    "***"
   ]
  },
  {
   "cell_type": "markdown",
   "metadata": {},
   "source": [
    "###  **3.1 Simple Random Data**  \n",
    "Simple random data is a dataset in which each single element of data has an equal and independent chance of being chosen. The classic example is the rolling of a dice where each number has 1/6 chance of being selected. \n",
    "The NumPy standard library includes a number of build in functions to work with simple random data, these include:\n",
    "* integers \n",
    "* random\n",
    "* choice\n",
    "* bytes\n",
    "\n",
    "We will look at some examples of these functions in the following code."
   ]
  },
  {
   "cell_type": "markdown",
   "metadata": {},
   "source": [
    "**Integers**"
   ]
  },
  {
   "cell_type": "code",
   "execution_count": 27,
   "metadata": {
    "scrolled": true
   },
   "outputs": [
    {
     "data": {
      "text/plain": [
       "array([0, 0, 0, 2, 1, 1, 2, 2, 0, 1], dtype=int64)"
      ]
     },
     "execution_count": 27,
     "metadata": {},
     "output_type": "execute_result"
    }
   ],
   "source": [
    "# Integers - Returns random integers from a range of values\n",
    "import numpy as np #import numpy and call np\n",
    "rng = np.random.default_rng() # defines the random generator\n",
    "rng.integers(3, size=10) # 10 random numbers from 0 up to but not including 3"
   ]
  },
  {
   "cell_type": "code",
   "execution_count": 22,
   "metadata": {
    "scrolled": true
   },
   "outputs": [
    {
     "data": {
      "text/plain": [
       "array([[2, 2, 1, 1],\n",
       "       [0, 3, 3, 4]], dtype=int64)"
      ]
     },
     "execution_count": 22,
     "metadata": {},
     "output_type": "execute_result"
    }
   ],
   "source": [
    "rng.integers(5, size=(2, 4)) # Integers between 0 and 5 in an array of 2x4. "
   ]
  },
  {
   "cell_type": "markdown",
   "metadata": {},
   "source": [
    "**Random**"
   ]
  },
  {
   "cell_type": "code",
   "execution_count": 62,
   "metadata": {
    "scrolled": true
   },
   "outputs": [
    {
     "data": {
      "text/plain": [
       "array([[0.61886728, 0.71184563, 0.45417946, 0.53382766, 0.08443694],\n",
       "       [0.21959536, 0.47277887, 0.32534255, 0.6208784 , 0.8387897 ],\n",
       "       [0.76977342, 0.13901709, 0.51390037, 0.80037192, 0.85323372]])"
      ]
     },
     "execution_count": 62,
     "metadata": {},
     "output_type": "execute_result"
    }
   ],
   "source": [
    "# Random - Returns random floats between 0.0 and 1.0\n",
    "\n",
    "import numpy as np #import numpy and call np\n",
    "rng = np.random.default_rng() # defines the random generator\n",
    "rng.random((3, 5)) # values degines shape of array, 3 rows with 5 floats in each"
   ]
  },
  {
   "cell_type": "markdown",
   "metadata": {},
   "source": [
    "**Choice**"
   ]
  },
  {
   "cell_type": "code",
   "execution_count": 69,
   "metadata": {
    "scrolled": true
   },
   "outputs": [
    {
     "data": {
      "text/plain": [
       "array([6, 8, 5], dtype=int64)"
      ]
     },
     "execution_count": 69,
     "metadata": {},
     "output_type": "execute_result"
    }
   ],
   "source": [
    "# Choice - Generates a random number from a 1 dimensional array\n",
    "rng = np.random.default_rng()\n",
    "rng.choice(10, 3) # provides 3 random integers between 0 and up to not including 10."
   ]
  },
  {
   "cell_type": "markdown",
   "metadata": {},
   "source": [
    "**Bytes**"
   ]
  },
  {
   "cell_type": "code",
   "execution_count": 74,
   "metadata": {
    "scrolled": true
   },
   "outputs": [
    {
     "data": {
      "text/plain": [
       "b'\\xc1\\xe6\\xc8\\x00}p\\x00\\x90'"
      ]
     },
     "execution_count": 74,
     "metadata": {},
     "output_type": "execute_result"
    }
   ],
   "source": [
    "# Returns a random group of binary digits (bytes)\n",
    "np.random.default_rng().bytes(8) # Input 8 = number of random bytes"
   ]
  },
  {
   "cell_type": "markdown",
   "metadata": {},
   "source": [
    "***\n",
    "## **3.2 Permuations**  \n",
    "A permutation as defined by Wikepedia; \"In mathematics, a permutation of a set is, loosely speaking, an arrangement of its members into a sequence or linear order, or if the set is already ordered, a rearrangement of its elements. The word \"permutation\" also refers to the act or process of changing the linear order of an ordered set.\"[<sup>4</sup>](#fn4)\n",
    "A permutation of a data set is largely an arranegement of the data into a linear order or re-arragnement of this order if already ordereded. Random permuatations are critical for data science applications such as cryptography and simulations. The classis real world example is the shuffling of a deck of cards which when you draw a card will result in a random permutation of the 52 cards. \n",
    "There are two permutations included in the standard library of NumPy which we will look at below, these are:\n",
    "* shuffle\n",
    "* permutation\n",
    "\n",
    "***\n",
    "<span id=\"fn4\"> 4</span> Wikepedia definition for Permuation https://en.wikipedia.org/wiki/Permutation"
   ]
  },
  {
   "cell_type": "markdown",
   "metadata": {},
   "source": [
    "**Shuffle**"
   ]
  },
  {
   "cell_type": "code",
   "execution_count": 83,
   "metadata": {
    "scrolled": true
   },
   "outputs": [
    {
     "name": "stdout",
     "output_type": "stream",
     "text": [
      "[0 1 2 3 4 5 6 7 8 9]\n"
     ]
    }
   ],
   "source": [
    "# Shuffle - Modifies a sequence by shuffling its contents\n",
    "#First lets tell python the arranged data:\n",
    "rng = np.random.default_rng() \n",
    "arr = np.arange(10) # Array is arranged data from 0-10\n",
    "print(arr)"
   ]
  },
  {
   "cell_type": "code",
   "execution_count": 86,
   "metadata": {
    "scrolled": true
   },
   "outputs": [
    {
     "name": "stdout",
     "output_type": "stream",
     "text": [
      "[2 7 1 0 5 3 4 6 8 9]\n"
     ]
    }
   ],
   "source": [
    "# Now lets use the shuffle command:\n",
    "rng.shuffle(arr)\n",
    "print(arr) # You can see from print out data has been randomly shuffled"
   ]
  },
  {
   "cell_type": "markdown",
   "metadata": {},
   "source": [
    "**Permutation**"
   ]
  },
  {
   "cell_type": "code",
   "execution_count": 89,
   "metadata": {
    "scrolled": true
   },
   "outputs": [
    {
     "data": {
      "text/plain": [
       "array([7, 5, 9, 3, 6, 0, 2, 4, 8, 1])"
      ]
     },
     "execution_count": 89,
     "metadata": {},
     "output_type": "execute_result"
    }
   ],
   "source": [
    "# Permutation - Randomly permutes a sequence or returns a permuted range.\n",
    "rng = np.random.default_rng()\n",
    "rng.permutation(10) # randomly lists data from 0-10"
   ]
  },
  {
   "cell_type": "code",
   "execution_count": 121,
   "metadata": {
    "scrolled": true
   },
   "outputs": [
    {
     "data": {
      "text/plain": [
       "array([[0, 1],\n",
       "       [2, 3],\n",
       "       [4, 5],\n",
       "       [6, 7]])"
      ]
     },
     "execution_count": 121,
     "metadata": {},
     "output_type": "execute_result"
    }
   ],
   "source": [
    "arr1 = np.arange(8).reshape((4, 2)) # we arrange 8 into an array of 4 x 2\n",
    "rng.permutation(arr1, axis=1) # randomly shuffles the array but keeps groupings i.e. 0&1, 2&3..."
   ]
  },
  {
   "cell_type": "markdown",
   "metadata": {},
   "source": [
    "An example of the use permutations in a real life scenario is the shuffling of a deck of cards which is demonstrated in the code below. For each shuffle of the deck there is an equal random chance of getting one of the 52 cards."
   ]
  },
  {
   "cell_type": "code",
   "execution_count": 169,
   "metadata": {},
   "outputs": [
    {
     "data": {
      "text/plain": [
       "'AClubs'"
      ]
     },
     "execution_count": 169,
     "metadata": {},
     "output_type": "execute_result"
    }
   ],
   "source": [
    "import numpy as np\n",
    "import matplotlib.pyplot as plt\n",
    "import seaborn as sns\n",
    "\n",
    "def setofcards(): \n",
    "    ranks = ['A', '2', '3', '4', '5', '6', '7', \n",
    "             '8', '9', '10', 'J', 'Q', 'K']\n",
    "    suits = ['Clubs', 'Diamonds', 'Hearts', 'Spades']\n",
    "    setofcards = []\n",
    "    for s in suits:\n",
    "        for r in ranks:\n",
    "            setofcards.append(r + s)\n",
    "    np.random.shuffle(deck)\n",
    "    return setofcards\n",
    "\n",
    "setofcards = setofcards()\n",
    "card = setofcards[0]\n",
    "card"
   ]
  },
  {
   "cell_type": "markdown",
   "metadata": {},
   "source": [
    "We can see running the code above will give a random card from the deck of 52. We first define the list for deck of cards by first defining individual values. In the ranks A=Ace, J=Jack, Q=Queen and K-King. We then define the 4 suits and create a function that for each random shuffle of the set of cards we append the suit and rank value and return the answer. We can then draw a card as a random value from the created function. "
   ]
  },
  {
   "cell_type": "markdown",
   "metadata": {},
   "source": [
    "***\n",
    "# 4. Use and Purpose of Distributions"
   ]
  },
  {
   "cell_type": "markdown",
   "metadata": {},
   "source": [
    "In the following section of the report we will look at a number of numpy distriubtions, for each distribution we will examine the purpose of the distribtution, its parameters and using python we will provide graphical representations of each distribution. Real world examples of where each distribution are also provided to provide a clearer understanding into how these distributions can be interpreted. "
   ]
  },
  {
   "cell_type": "markdown",
   "metadata": {},
   "source": [
    "***\n",
    "## 4.1 Binomial Distribution\n",
    "\n",
    "A binomial distribution is an example of a discrete distribution (see section 2 for discrete data type). It describes the outcome of a binary operation, as disucssed earlier a prime example is tossing a coin. A binary distribtion has 3 parameters as follows:\n",
    "\n",
    "* n - numbers of options\n",
    "* p - probability of each iteration\n",
    "* size - the number of iterations\n",
    "\n",
    "In the below code we will simulate a number of coin flips and plot the distributions using the seaborn library which is build upon matplotlib."
   ]
  },
  {
   "cell_type": "code",
   "execution_count": 212,
   "metadata": {
    "scrolled": true
   },
   "outputs": [
    {
     "name": "stdout",
     "output_type": "stream",
     "text": [
      "[0 1 1 0 0]\n"
     ]
    },
    {
     "data": {
      "image/png": "[encoded data removed]",
      "text/plain": [
       "<Figure size 432x288 with 1 Axes>"
      ]
     },
     "metadata": {
      "needs_background": "light"
     },
     "output_type": "display_data"
    }
   ],
   "source": [
    "from numpy import random as rd # we will use the random function explained above with the binomial function\n",
    "import matplotlib.pyplot as plt # import matplotlib as plt, seaborn is build on top of this\n",
    "import seaborn as sns # imports seaborn library as sns\n",
    "\n",
    "flip = rd.binomial(n=1, p=0.5, size=5) # we define the flip function and input values for parameters above, p = 0.5 as probability is 50%\n",
    "print(flip) # prints the generated set\n",
    "\n",
    "sns.set_palette(\"pastel\") # sets the user preferred colour scheme\n",
    "flipplot = sns.histplot(flip, kde=False, binwidth=0.5) # generates a histogram of results for <0.5 and >0.5. \n",
    "# kernel density estimate (kde) is not required and, \n",
    "# we set binwidth to 0.5 to ensure the ranges in the histogram are correctly identified."
   ]
  },
  {
   "cell_type": "markdown",
   "metadata": {},
   "source": [
    "We can see from the plot above that out of 5 coin flips we can still get more of a bias towards either either heads or tails pending on the output of the random number generation. Lets see if we can get closer to a rectangle running simulation 1000 times below:"
   ]
  },
  {
   "cell_type": "code",
   "execution_count": 209,
   "metadata": {
    "scrolled": true
   },
   "outputs": [
    {
     "data": {
      "image/png": "[encoded data removed]",
      "text/plain": [
       "<Figure size 432x288 with 1 Axes>"
      ]
     },
     "metadata": {
      "needs_background": "light"
     },
     "output_type": "display_data"
    }
   ],
   "source": [
    "flip1 = rd.binomial(n=1, p=0.5, size=1000)\n",
    "sns.set_palette(\"pastel\") \n",
    "flipplot1 = sns.histplot(flip1, kde=False, binwidth=0.5)"
   ]
  },
  {
   "cell_type": "markdown",
   "metadata": {},
   "source": [
    "And finally 10000 times:"
   ]
  },
  {
   "cell_type": "code",
   "execution_count": 210,
   "metadata": {
    "scrolled": true
   },
   "outputs": [
    {
     "data": {
      "image/png": "[encoded data removed]",
      "text/plain": [
       "<Figure size 432x288 with 1 Axes>"
      ]
     },
     "metadata": {
      "needs_background": "light"
     },
     "output_type": "display_data"
    }
   ],
   "source": [
    "flip2 = rd.binomial(n=1, p=0.5, size=10000)\n",
    "sns.set_palette(\"pastel\") \n",
    "flipplot2 = sns.histplot(flip2, kde=False, binwidth=0.5)"
   ]
  },
  {
   "cell_type": "code",
   "execution_count": 213,
   "metadata": {
    "scrolled": true
   },
   "outputs": [
    {
     "data": {
      "text/plain": [
       "0.5041"
      ]
     },
     "execution_count": 213,
     "metadata": {},
     "output_type": "execute_result"
    }
   ],
   "source": [
    "sum(rd.binomial(n=1, p = 0.5, size=10000) == 0)/10000\n",
    "# 49.95% (Will change after each run)"
   ]
  },
  {
   "cell_type": "markdown",
   "metadata": {},
   "source": [
    "The plots show as the number of coin flips is increased we are more likely going to get closer to a rectangular shape suggesting that the probability is in fact 50% for each flip of the coin. This is also checked via a simple sum proabability calculation dividing the number of 0 results by number of simulations, which results in close to 50% each time.\n",
    "***"
   ]
  },
  {
   "cell_type": "markdown",
   "metadata": {},
   "source": [
    "## 4.2 Normal Distribution"
   ]
  },
  {
   "cell_type": "markdown",
   "metadata": {
    "scrolled": true
   },
   "source": [
    "The numpy normal distribution is one of the most widely used distribtutions. It works well with continuous daata such as IQ scores, heartbeats and age profiles. It is called after the German mathematician Carl Friedrich Gauss.\n",
    "\n",
    "The funtion is called using the following code np.random.normal(), where numpy is imported as np. The numpy normal distribution has three parameters:\n",
    "\n",
    "* loc - the mean of the data\n",
    "* scale - the standard deviation of the data\n",
    "* size - the shape of the returned array\n",
    "\n",
    "To demonstrate the use of the normal distribution we will look at an actual data set from the Titanic ship that sank in May 1911 and then plot a normal distribution from this dataset. "
   ]
  },
  {
   "cell_type": "code",
   "execution_count": 15,
   "metadata": {
    "scrolled": true
   },
   "outputs": [
    {
     "data": {
      "text/html": [
       "<div>\n",
       "<style scoped>\n",
       "    .dataframe tbody tr th:only-of-type {\n",
       "        vertical-align: middle;\n",
       "    }\n",
       "\n",
       "    .dataframe tbody tr th {\n",
       "        vertical-align: top;\n",
       "    }\n",
       "\n",
       "    .dataframe thead th {\n",
       "        text-align: right;\n",
       "    }\n",
       "</style>\n",
       "<table border=\"1\" class=\"dataframe\">\n",
       "  <thead>\n",
       "    <tr style=\"text-align: right;\">\n",
       "      <th></th>\n",
       "      <th>PassengerId</th>\n",
       "      <th>Survived</th>\n",
       "      <th>Pclass</th>\n",
       "      <th>Name</th>\n",
       "      <th>Sex</th>\n",
       "      <th>Age</th>\n",
       "      <th>SibSp</th>\n",
       "      <th>Parch</th>\n",
       "      <th>Ticket</th>\n",
       "      <th>Fare</th>\n",
       "      <th>Cabin</th>\n",
       "      <th>Embarked</th>\n",
       "    </tr>\n",
       "  </thead>\n",
       "  <tbody>\n",
       "    <tr>\n",
       "      <th>0</th>\n",
       "      <td>1</td>\n",
       "      <td>0</td>\n",
       "      <td>3</td>\n",
       "      <td>Braund, Mr. Owen Harris</td>\n",
       "      <td>male</td>\n",
       "      <td>22.0</td>\n",
       "      <td>1</td>\n",
       "      <td>0</td>\n",
       "      <td>A/5 21171</td>\n",
       "      <td>7.2500</td>\n",
       "      <td>NaN</td>\n",
       "      <td>S</td>\n",
       "    </tr>\n",
       "    <tr>\n",
       "      <th>1</th>\n",
       "      <td>2</td>\n",
       "      <td>1</td>\n",
       "      <td>1</td>\n",
       "      <td>Cumings, Mrs. John Bradley (Florence Briggs Th...</td>\n",
       "      <td>female</td>\n",
       "      <td>38.0</td>\n",
       "      <td>1</td>\n",
       "      <td>0</td>\n",
       "      <td>PC 17599</td>\n",
       "      <td>71.2833</td>\n",
       "      <td>C85</td>\n",
       "      <td>C</td>\n",
       "    </tr>\n",
       "    <tr>\n",
       "      <th>2</th>\n",
       "      <td>3</td>\n",
       "      <td>1</td>\n",
       "      <td>3</td>\n",
       "      <td>Heikkinen, Miss. Laina</td>\n",
       "      <td>female</td>\n",
       "      <td>26.0</td>\n",
       "      <td>0</td>\n",
       "      <td>0</td>\n",
       "      <td>STON/O2. 3101282</td>\n",
       "      <td>7.9250</td>\n",
       "      <td>NaN</td>\n",
       "      <td>S</td>\n",
       "    </tr>\n",
       "    <tr>\n",
       "      <th>3</th>\n",
       "      <td>4</td>\n",
       "      <td>1</td>\n",
       "      <td>1</td>\n",
       "      <td>Futrelle, Mrs. Jacques Heath (Lily May Peel)</td>\n",
       "      <td>female</td>\n",
       "      <td>35.0</td>\n",
       "      <td>1</td>\n",
       "      <td>0</td>\n",
       "      <td>113803</td>\n",
       "      <td>53.1000</td>\n",
       "      <td>C123</td>\n",
       "      <td>S</td>\n",
       "    </tr>\n",
       "    <tr>\n",
       "      <th>4</th>\n",
       "      <td>5</td>\n",
       "      <td>0</td>\n",
       "      <td>3</td>\n",
       "      <td>Allen, Mr. William Henry</td>\n",
       "      <td>male</td>\n",
       "      <td>35.0</td>\n",
       "      <td>0</td>\n",
       "      <td>0</td>\n",
       "      <td>373450</td>\n",
       "      <td>8.0500</td>\n",
       "      <td>NaN</td>\n",
       "      <td>S</td>\n",
       "    </tr>\n",
       "    <tr>\n",
       "      <th>...</th>\n",
       "      <td>...</td>\n",
       "      <td>...</td>\n",
       "      <td>...</td>\n",
       "      <td>...</td>\n",
       "      <td>...</td>\n",
       "      <td>...</td>\n",
       "      <td>...</td>\n",
       "      <td>...</td>\n",
       "      <td>...</td>\n",
       "      <td>...</td>\n",
       "      <td>...</td>\n",
       "      <td>...</td>\n",
       "    </tr>\n",
       "    <tr>\n",
       "      <th>886</th>\n",
       "      <td>887</td>\n",
       "      <td>0</td>\n",
       "      <td>2</td>\n",
       "      <td>Montvila, Rev. Juozas</td>\n",
       "      <td>male</td>\n",
       "      <td>27.0</td>\n",
       "      <td>0</td>\n",
       "      <td>0</td>\n",
       "      <td>211536</td>\n",
       "      <td>13.0000</td>\n",
       "      <td>NaN</td>\n",
       "      <td>S</td>\n",
       "    </tr>\n",
       "    <tr>\n",
       "      <th>887</th>\n",
       "      <td>888</td>\n",
       "      <td>1</td>\n",
       "      <td>1</td>\n",
       "      <td>Graham, Miss. Margaret Edith</td>\n",
       "      <td>female</td>\n",
       "      <td>19.0</td>\n",
       "      <td>0</td>\n",
       "      <td>0</td>\n",
       "      <td>112053</td>\n",
       "      <td>30.0000</td>\n",
       "      <td>B42</td>\n",
       "      <td>S</td>\n",
       "    </tr>\n",
       "    <tr>\n",
       "      <th>888</th>\n",
       "      <td>889</td>\n",
       "      <td>0</td>\n",
       "      <td>3</td>\n",
       "      <td>Johnston, Miss. Catherine Helen \"Carrie\"</td>\n",
       "      <td>female</td>\n",
       "      <td>NaN</td>\n",
       "      <td>1</td>\n",
       "      <td>2</td>\n",
       "      <td>W./C. 6607</td>\n",
       "      <td>23.4500</td>\n",
       "      <td>NaN</td>\n",
       "      <td>S</td>\n",
       "    </tr>\n",
       "    <tr>\n",
       "      <th>889</th>\n",
       "      <td>890</td>\n",
       "      <td>1</td>\n",
       "      <td>1</td>\n",
       "      <td>Behr, Mr. Karl Howell</td>\n",
       "      <td>male</td>\n",
       "      <td>26.0</td>\n",
       "      <td>0</td>\n",
       "      <td>0</td>\n",
       "      <td>111369</td>\n",
       "      <td>30.0000</td>\n",
       "      <td>C148</td>\n",
       "      <td>C</td>\n",
       "    </tr>\n",
       "    <tr>\n",
       "      <th>890</th>\n",
       "      <td>891</td>\n",
       "      <td>0</td>\n",
       "      <td>3</td>\n",
       "      <td>Dooley, Mr. Patrick</td>\n",
       "      <td>male</td>\n",
       "      <td>32.0</td>\n",
       "      <td>0</td>\n",
       "      <td>0</td>\n",
       "      <td>370376</td>\n",
       "      <td>7.7500</td>\n",
       "      <td>NaN</td>\n",
       "      <td>Q</td>\n",
       "    </tr>\n",
       "  </tbody>\n",
       "</table>\n",
       "<p>891 rows × 12 columns</p>\n",
       "</div>"
      ],
      "text/plain": [
       "     PassengerId  Survived  Pclass  \\\n",
       "0              1         0       3   \n",
       "1              2         1       1   \n",
       "2              3         1       3   \n",
       "3              4         1       1   \n",
       "4              5         0       3   \n",
       "..           ...       ...     ...   \n",
       "886          887         0       2   \n",
       "887          888         1       1   \n",
       "888          889         0       3   \n",
       "889          890         1       1   \n",
       "890          891         0       3   \n",
       "\n",
       "                                                  Name     Sex   Age  SibSp  \\\n",
       "0                              Braund, Mr. Owen Harris    male  22.0      1   \n",
       "1    Cumings, Mrs. John Bradley (Florence Briggs Th...  female  38.0      1   \n",
       "2                               Heikkinen, Miss. Laina  female  26.0      0   \n",
       "3         Futrelle, Mrs. Jacques Heath (Lily May Peel)  female  35.0      1   \n",
       "4                             Allen, Mr. William Henry    male  35.0      0   \n",
       "..                                                 ...     ...   ...    ...   \n",
       "886                              Montvila, Rev. Juozas    male  27.0      0   \n",
       "887                       Graham, Miss. Margaret Edith  female  19.0      0   \n",
       "888           Johnston, Miss. Catherine Helen \"Carrie\"  female   NaN      1   \n",
       "889                              Behr, Mr. Karl Howell    male  26.0      0   \n",
       "890                                Dooley, Mr. Patrick    male  32.0      0   \n",
       "\n",
       "     Parch            Ticket     Fare Cabin Embarked  \n",
       "0        0         A/5 21171   7.2500   NaN        S  \n",
       "1        0          PC 17599  71.2833   C85        C  \n",
       "2        0  STON/O2. 3101282   7.9250   NaN        S  \n",
       "3        0            113803  53.1000  C123        S  \n",
       "4        0            373450   8.0500   NaN        S  \n",
       "..     ...               ...      ...   ...      ...  \n",
       "886      0            211536  13.0000   NaN        S  \n",
       "887      0            112053  30.0000   B42        S  \n",
       "888      2        W./C. 6607  23.4500   NaN        S  \n",
       "889      0            111369  30.0000  C148        C  \n",
       "890      0            370376   7.7500   NaN        Q  \n",
       "\n",
       "[891 rows x 12 columns]"
      ]
     },
     "execution_count": 15,
     "metadata": {},
     "output_type": "execute_result"
    }
   ],
   "source": [
    "import numpy as np \n",
    "import seaborn as sns \n",
    "import matplotlib.pyplot as plt \n",
    "import pandas as pd \n",
    "\n",
    "data = pd.read_csv('https://raw.githubusercontent.com/datasciencedojo/datasets/master/titanic.csv') # we used pandas library to read the csv file at the link location\n",
    "data # display data in output"
   ]
  },
  {
   "cell_type": "code",
   "execution_count": 17,
   "metadata": {
    "scrolled": true
   },
   "outputs": [
    {
     "name": "stdout",
     "output_type": "stream",
     "text": [
      "       PassengerId    Survived      Pclass         Age       SibSp  \\\n",
      "count   891.000000  891.000000  891.000000  714.000000  891.000000   \n",
      "mean    446.000000    0.383838    2.308642   29.699118    0.523008   \n",
      "std     257.353842    0.486592    0.836071   14.526497    1.102743   \n",
      "min       1.000000    0.000000    1.000000    0.420000    0.000000   \n",
      "25%     223.500000    0.000000    2.000000   20.125000    0.000000   \n",
      "50%     446.000000    0.000000    3.000000   28.000000    0.000000   \n",
      "75%     668.500000    1.000000    3.000000   38.000000    1.000000   \n",
      "max     891.000000    1.000000    3.000000   80.000000    8.000000   \n",
      "\n",
      "            Parch        Fare  \n",
      "count  891.000000  891.000000  \n",
      "mean     0.381594   32.204208  \n",
      "std      0.806057   49.693429  \n",
      "min      0.000000    0.000000  \n",
      "25%      0.000000    7.910400  \n",
      "50%      0.000000   14.454200  \n",
      "75%      0.000000   31.000000  \n",
      "max      6.000000  512.329200  \n"
     ]
    }
   ],
   "source": [
    "print(data.describe())  \n",
    "# data.describe provides a summary of the data where we can extract values for number of passengers, \n",
    "# mean and standard deviation of passengers age's. "
   ]
  },
  {
   "cell_type": "code",
   "execution_count": 18,
   "metadata": {},
   "outputs": [
    {
     "data": {
      "image/png": "[encoded data removed]",
      "text/plain": [
       "<Figure size 432x288 with 1 Axes>"
      ]
     },
     "metadata": {},
     "output_type": "display_data"
    }
   ],
   "source": [
    "agerange = np.random.normal(loc=29.699118, scale=14.526497, size=891) \n",
    "# using values from above we input the mean, standard deviation and number of passengers in definign agerange function\n",
    "# which uses np.random.normal()\n",
    "\n",
    "agerangehist = sns.histplot(agerange, kde=True, binwidth=5, binrange=(0, 80)) \n",
    "# we create a histogram of the age normal distribution, we set binwidth to 5 to show ages in intervals of 5\n",
    "# and binrange from 0 to 80 (minimum and max ages)\n",
    "\n",
    "plt.title(\"Titantic Age Normal Distribution\") # set's the title of the plot\n",
    "plt.xlabel(\"Age of Passengers\") # sets x-axis label\n",
    "sns.set_palette(\"husl\", 3) # sets chosen color palette\n",
    "sns.set_style(\"whitegrid\") # sets a white grid to the plot output"
   ]
  },
  {
   "cell_type": "markdown",
   "metadata": {},
   "source": [
    "From the normal distribution generated on the age profile of Titanic passengers we can quickly see that the majority of passengers were middled aged between 20 and 40 with the average been 29. "
   ]
  },
  {
   "cell_type": "markdown",
   "metadata": {},
   "source": [
    "## 4.3 Poisson Distribution"
   ]
  },
  {
   "cell_type": "markdown",
   "metadata": {},
   "source": [
    "The poisson distribution is a anoth example of a discrete data distribution. It estimates the probability an event can happen based on rate of number of occurences. \n",
    "\n",
    "The poisson distribution is called using np.random.poisson, where numpy is imported as np. It has two main parameters:\n",
    "\n",
    "* lam - the rate or known number of occurences\n",
    "* size - the size of the array\n",
    "\n",
    "For this example we will look at another real world scenario. The scenario is that a wind farm developer is trying to determine if an area in Shannon Co. Clare will have adequate wind speeds to site the wind farm. We are at early stage in the project and the limitation of the study will be a high level desktop review of the wind data available from historical records. \n",
    "The main criteria for selection of the site will be the wind speed. The minimum wind speed required by the developer for the turbine to generate electrictity ais 12.5 kilometres per hour (kph) and to make the investment attractive for the developer this wind speed should be achieved for greater than 75% of the year.\n",
    "The historical data has shown the average wind speed in Shannon between 1980 to 2010 was 16.9kph. We will now input this value into a poisson function to determine likelihood of wind speeds in this area. "
   ]
  },
  {
   "cell_type": "code",
   "execution_count": 145,
   "metadata": {},
   "outputs": [
    {
     "data": {
      "image/png": "[encoded data removed]",
      "text/plain": [
       "<Figure size 432x288 with 1 Axes>"
      ]
     },
     "metadata": {},
     "output_type": "display_data"
    }
   ],
   "source": [
    "import numpy as np \n",
    "import matplotlib.pyplot as plt\n",
    "import seaborn as sns\n",
    "\n",
    "sns.histplot(np.random.poisson(lam=16.9, size=100), binwidth=2.5, kde=False)\n",
    "# We use the lam of 16.9 as this is known wind speed, binwidth is 2.5 as we want in intervals of 2.5, kde not required\n",
    "plt.title(\"Wind Speed Shannon, Co. Clare, Poisson Distribution\") # set's the title of the plot\n",
    "plt.xlabel(\"Wind Speeds\") # sets x-axis label\n",
    "plt.ylabel(\"Probability\")\n",
    "plt.show()"
   ]
  },
  {
   "cell_type": "markdown",
   "metadata": {},
   "source": [
    "The poisson distribution of the wind data has determind that the winds speeds will be greater than 12.5kph for more than 80% of the year. The desktop study has been a success and now developer has decided to commit further resources to carry out a more detailed investigation on the data set.\n",
    "\n",
    "The above real life scenario has shown one of the many uses for poisson distriubtions."
   ]
  },
  {
   "cell_type": "markdown",
   "metadata": {},
   "source": [
    "***\n",
    "## 4.4 Pareto Distribution\n",
    "\n",
    "The pareto distribution in statistics is based on the Pareto Priciple, also know as the \"80/20\" rule, which means that 80% of the output is based on 20% of the input. \n",
    "\n",
    "Pareto analysis can be very powerful in applications such as project management in construction. For example is 80% of a construction companies turnover was generated from 20% of the input this could be visualised in a Pareto Distribution and is powerful to analyse this data. \n",
    "\n",
    "A pareto distribution has two parameters:\n",
    "\n",
    "* a - shape of distribution\n",
    "* size - the shape of the returned array\n",
    "\n",
    "In the below code we will look out how a typical pareto distribution can be graphically represented using the function np.random.pareto()."
   ]
  },
  {
   "cell_type": "code",
   "execution_count": 151,
   "metadata": {},
   "outputs": [
    {
     "data": {
      "image/png": "[encoded data removed]",
      "text/plain": [
       "<Figure size 360x360 with 1 Axes>"
      ]
     },
     "metadata": {},
     "output_type": "display_data"
    }
   ],
   "source": [
    "import numpy as np\n",
    "import matplotlib.pyplot as plt\n",
    "import seaborn as sns\n",
    "\n",
    "constructionprojects = list(np.random.pareto(a=20, size=1000))\n",
    "\n",
    "constructionpareto = sns.displot(constructionprojects, color='darkgreen')\n",
    "plt.title(\"Pareto Distribution - Construction Projects Turnover\")\n",
    "plt.xlabel(\"Construction Projects\")\n",
    "plt.ylabel(\"Turnover\")\n",
    "plt.show()"
   ]
  },
  {
   "cell_type": "markdown",
   "metadata": {},
   "source": [
    "From the above graph, if we assumed this referred to the turnover of a construction companies profits from a number of different projects, it could be shown clearly the impact as small 20% of project have on the overall turnover for the company.\n",
    "This is one of just many examples for pareto distributions, other applications could include analysing complaints from customer feedback across a number of departments, analysing common bugs and faults in a software package etc.\n",
    "***"
   ]
  },
  {
   "cell_type": "markdown",
   "metadata": {},
   "source": [
    "## 4.5 Exponential Distribution"
   ]
  },
  {
   "cell_type": "markdown",
   "metadata": {},
   "source": [
    "An exponential distribution is often used to represent the prediction of a time period until a specific event occurs. Popular examples include time between earthquakes, the duration a person spends on a website etc. An exponential distribution has two parameters:\n",
    "\n",
    "* scale - iverse of rate which has a default of 1.0\n",
    "* size - the shape of the array\n",
    "\n",
    "In statistics and mathematical theory, the exponential distribution is a measurement of the probability of time between events in a poisson point process or in simpler terms a scenario where events occur continously at a constant average rate as per examples above. \n",
    "\n",
    "We will look at some code below of how this data could be interpreted to simulate how long a customer may wait in line for checkout at a department store."
   ]
  },
  {
   "cell_type": "code",
   "execution_count": 153,
   "metadata": {},
   "outputs": [
    {
     "data": {
      "image/png": "[encoded data removed]",
      "text/plain": [
       "<Figure size 360x360 with 1 Axes>"
      ]
     },
     "metadata": {},
     "output_type": "display_data"
    }
   ],
   "source": [
    "import numpy as np \n",
    "import matplotlib.pyplot as plt\n",
    "import seaborn as sns\n",
    "\n",
    "exponentialvalues = list(np.random.exponential(scale=15, size=500))\n",
    "# we set the scale to be 15 as we assume is a reasonable value for wait time scale, we want 500 results\n",
    "\n",
    "waittime = sns.displot(exponentialvalues, color='blue', binwidth=5)\n",
    "# waittime plot is a displot displaying exponential values in blue \n",
    "plt.title(\"Exponential Distribution - Time spend at Checkout (Minutes)\") # graph title\n",
    "plt.xlabel(\"Time spend at checkout (Minutes)\") # x label title\n",
    "plt.ylabel(\"Frequency\") # y label title\n",
    "plt.show()"
   ]
  },
  {
   "cell_type": "markdown",
   "metadata": {},
   "source": [
    "We can see from the results of the time spend at checkout exponential graph that as would be expected the probability that a customer will wait in line will decrease exponentially from the moment they start queing. This format of data could be very important for strategy and marketing analysts in this application and is one of many examples of the use of exponential distributions."
   ]
  },
  {
   "cell_type": "code",
   "execution_count": null,
   "metadata": {},
   "outputs": [],
   "source": [
    "#for permutations see: https://medium.com/@manilwagle/probability-and-simulation-6a28fc1f1cb0\n",
    "# http://hplgit.github.io/primer.html/doc/pub/random/._random-readable002.html\n",
    "\n",
    "from numpy import random\n",
    "import matplotlib.pyplot as plt\n",
    "import seaborn as sns\n",
    "\n",
    "def make_deck():\n",
    "    ranks = ['A', '2', '3', '4', '5', '6', '7',\n",
    "             '8', '9', '10', 'J', 'Q', 'K']\n",
    "    suits = ['Clubs', 'Diamonds', 'Hearts', 'Spades']\n",
    "    deck = []\n",
    "    for s in suits:\n",
    "        for r in ranks:\n",
    "            deck.append(r + s)\n",
    "    random.shuffle(deck)\n",
    "    return deck\n",
    "\n",
    "deck = make_deck()\n",
    "card = deck[0]\n",
    "card"
   ]
  },
  {
   "cell_type": "code",
   "execution_count": null,
   "metadata": {},
   "outputs": [],
   "source": []
  },
  {
   "cell_type": "markdown",
   "metadata": {},
   "source": [
    "# 5.0 Use of seed in generating pseudorandom numbers"
   ]
  },
  {
   "cell_type": "code",
   "execution_count": null,
   "metadata": {},
   "outputs": [],
   "source": []
  },
  {
   "cell_type": "code",
   "execution_count": null,
   "metadata": {},
   "outputs": [],
   "source": [
    "\n"
   ]
  },
  {
   "cell_type": "code",
   "execution_count": null,
   "metadata": {},
   "outputs": [],
   "source": []
  },
  {
   "cell_type": "code",
   "execution_count": null,
   "metadata": {},
   "outputs": [],
   "source": []
  },
  {
   "cell_type": "code",
   "execution_count": null,
   "metadata": {},
   "outputs": [],
   "source": []
  },
  {
   "cell_type": "markdown",
   "metadata": {},
   "source": [
    "# 6. References\n",
    "\n",
    "1. https://web.archive.org/web/20131014035918/http://www.vision.ime.usp.br/~thsant/pool/oliphant-python_scientific.pdf\n",
    "2. https://web.mit.edu/dvp/Public/numpybook.pdf\n",
    "3. https://en.wikipedia.org/wiki/NumPy\n",
    "4. https://www.nature.com/articles/s41586-020-2649-2.pdf\n",
    "5. https://www.cs.mcgill.ca/~hv/articles/Numerical/numpy.pdf\n",
    "6. https://en.wikipedia.org/wiki/Travis_Oliphant\n",
    "7. https://github.com/numpy/numpy\n",
    "8. https://numpy.org/\n",
    "9. https://www.open.edu/openlearn/ocw/mod/oucontent/view.php?id=85587&section=1#:~:text=Discrete%20data%20is%20information%20that%20can%20only%20take%20certain%20values.&text=Continuous%20data%20is%20data%20that,all%20examples%20of%20continuous%20data.\n",
    "10. https://towardsdatascience.com/a-cheat-sheet-on-generating-random-numbers-in-numpy-5fe95ec2286\n",
    "11. https://www.pluralsight.com/guides/almost-random-numbers\n",
    "12. https://www.wired.com/story/cloudflare-lava-lamps-protect-from-hackers/\n",
    "13. https://realpython.com/lessons/randomness-modeling-and-simulation/\n",
    "14. https://www.python-course.eu/python_numpy_probability.php\n",
    "15. https://python-programming.quantecon.org/numpy.html\n",
    "16. https://upengareri.github.io/notes/python/numpy/np_random_numbers/\n",
    "17. https://www.datacamp.com/community/tutorials/numpy-random\n",
    "18. https://www.tutorialspoint.com/statistics/simple_random_sampling.htm\n",
    "19. https://en.wikipedia.org/wiki/Permutation\n",
    "20. https://en.wikipedia.org/wiki/Random_permutation\n",
    "21. https://subscription.packtpub.com/book/big_data_and_business_intelligence/9781785285110/2/ch02lvl1sec16/numpy-random-numbers\n",
    "22. https://www.w3schools.com/python/numpy_random.asp\n",
    "23. https://www.w3schools.com/python/numpy_random_binomial.asp\n",
    "24. http://www.python-ds.com/python-binomial-distribution\n",
    "25. https://www.statology.org/binomial-distribution-python/\n",
    "26. https://www.w3schools.com/python/numpy_random_normal.asp\n",
    "27. https://www.sharpsightlabs.com/blog/numpy-random-normal/#:~:text=The%20NumPy%20random%20normal%20function%20enables%20you%20to%20create%20a,that%20contains%20normally%20distributed%20data.&text=Normally%20distributed%20data%20is%20shaped,called%20the%20%E2%80%9Cbell%20curve.%E2%80%9D\n",
    "28. https://s3.amazonaws.com/assets.datacamp.com/blog_assets/Python_Seaborn_Cheat_Sheet.pdf\n",
    "29. http://www.hydroquebec.com/learning/eolienne/#:~:text=Wind%20turbines%20require%3A,be%20stopped%20to%20avoid%20damage\n",
    "30. https://www.statisticshowto.com/poisson-distribution/\n",
    "31. https://www.currentresults.com/Weather/Ireland/wind-speed-annual.php\n",
    "32. https://www.w3schools.com/python/numpy_random_poisson.asp\n",
    "33. https://www.geeksforgeeks.org/numpy-random-pareto-in-python/\n",
    "34. https://numpy.org/doc/stable/reference/random/generated/numpy.random.pareto.html\n",
    "35. https://www.designingbuildings.co.uk/wiki/Pareto_analysis_in_construction#:~:text=It%20is%20based%20on%20the,who%20was%20researching%20wealth%20distribution.\n",
    "36. https://www.w3schools.com/python/numpy_random_pareto.asp\n",
    "37. https://seaborn.pydata.org/generated/seaborn.displot.html#seaborn.displot\n",
    "38. https://en.wikipedia.org/wiki/Exponential_distribution#:~:text=In%20probability%20theory%20and%20statistics,at%20a%20constant%20average%20rate.\n",
    "39. https://dfrieds.com/math/exponential-distribution.html\n",
    "40. https://stats.libretexts.org/Bookshelves/Introductory_Statistics/Book%3A_Introductory_Statistics_(OpenStax)/05%3A_Continuous_Random_Variables/5.04%3A_The_Exponential_Distribution#:~:text=For%20example%2C%20the%20amount%20of,months%2C%20a%20car%20battery%20lasts.\n",
    "41. https://numpy.org/doc/stable/reference/random/generated/numpy.random.exponential.html\n",
    "42. https://www.w3schools.com/python/numpy_random_exponential.asp\n",
    "43. https://medium.com/@manilwagle/probability-and-simulation-6a28fc1f1cb0\n",
    "44. http://hplgit.github.io/primer.html/doc/pub/random/._random-readable002.html\n",
    "\n"
   ]
  },
  {
   "cell_type": "code",
   "execution_count": null,
   "metadata": {
    "scrolled": true
   },
   "outputs": [],
   "source": []
  }
 ],
 "metadata": {
  "kernelspec": {
   "display_name": "Python 3",
   "language": "python",
   "name": "python3"
  },
  "language_info": {
   "codemirror_mode": {
    "name": "ipython",
    "version": 3
   },
   "file_extension": ".py",
   "mimetype": "text/x-python",
   "name": "python",
   "nbconvert_exporter": "python",
   "pygments_lexer": "ipython3",
   "version": "3.8.5"
  }
 },
 "nbformat": 4,
 "nbformat_minor": 4
}
